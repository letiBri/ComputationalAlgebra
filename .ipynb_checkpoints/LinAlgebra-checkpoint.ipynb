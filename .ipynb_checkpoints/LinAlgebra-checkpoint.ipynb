{
 "cells": [
  {
   "cell_type": "markdown",
   "id": "5e52220e-4e7d-4363-a769-3c1d97fff962",
   "metadata": {},
   "source": [
    "# Python Lab 00b: Linear Algebra in Python\n",
    "## Francesco Della Santa, Computational Linear Algebra for Large Scale Problems, Politecnico di Torino\n",
    "\n",
    "The \"par excellence\" package for the basic scientific computing in Pyhton is **numpy**. Its extension, for advanced scientific computing is instead **scipy** (actually, scipy \"includes\" numpy computations).\n",
    "\n",
    "The conventions want to import this packages in the programs with the abbreviations **np** and **sp**, i.e. using the commands:\n",
    "- import numpy as np\n",
    "- import scipy as sp\n",
    "\n",
    "In this notebook we show briefly the basic numpy and scipy commands for linear algebra computations, including sparse matrices. For more info: https://docs.scipy.org/doc/"
   ]
  },
  {
   "cell_type": "code",
   "execution_count": 1,
   "id": "cd128181-c220-4082-a293-4e174f85eebc",
   "metadata": {},
   "outputs": [],
   "source": [
    "# ***** ATTENTION! *****\n",
    "# If you want that the \"%matplotlib widget\" works, you need the package ipympl (pip install ipympl)\n",
    "#\n",
    "#\n",
    "# MATPLOTLIB INTERACTIVE VISUALIZATION. REMOVE (OR COMMENT) IF YOU NEED TO PRINT THE NOTEBOOK AS A PDF, SOMETIMES IT DOES NOT WORK WELL...\n",
    "%matplotlib widget\n",
    "#\n",
    "#\n",
    "\n",
    "from IPython.display import display  # to display variables in a \"nice\" way\n",
    "from IPython.display import Image  # to import images \"exportables\" to PDF\n",
    "import matplotlib.pyplot as plt\n",
    "import numpy as np\n",
    "import scipy as sp\n",
    "import scipy.sparse as spsp\n",
    "import time\n"
   ]
  },
  {
   "cell_type": "markdown",
   "id": "579ba35d-362d-48db-b18f-da1bc9258cf8",
   "metadata": {},
   "source": [
    "## ND-Arrays\n",
    "\n",
    "The main working objects of numpy and scipy are the **ndarrays** (we call them \"**arrays**\" for simplicity), that are multi-dimensional sequences of ordered objects (very similar to lists and tuples). \n",
    "\n",
    "Arrays are used to represent vectors, matrices and tensors. The creation of an array is obtained calling the **array** function of numpy. You can read the full description of the function in the following cell. Nonetheless, for the laboratories, we can focus only on two arguments:\n",
    "1. **object** argument\n",
    "1. **ndmin** argument"
   ]
  },
  {
   "cell_type": "code",
   "execution_count": 2,
   "id": "e8993085-a9ec-44b6-9618-f9dfe4336643",
   "metadata": {},
   "outputs": [
    {
     "name": "stdout",
     "output_type": "stream",
     "text": [
      "Help on built-in function array in module numpy:\n",
      "\n",
      "array(...)\n",
      "    array(object, dtype=None, *, copy=True, order='K', subok=False, ndmin=0,\n",
      "          like=None)\n",
      "    \n",
      "    Create an array.\n",
      "    \n",
      "    Parameters\n",
      "    ----------\n",
      "    object : array_like\n",
      "        An array, any object exposing the array interface, an object whose\n",
      "        ``__array__`` method returns an array, or any (nested) sequence.\n",
      "        If object is a scalar, a 0-dimensional array containing object is\n",
      "        returned.\n",
      "    dtype : data-type, optional\n",
      "        The desired data-type for the array. If not given, NumPy will try to use\n",
      "        a default ``dtype`` that can represent the values (by applying promotion\n",
      "        rules when necessary.)\n",
      "    copy : bool, optional\n",
      "        If true (default), then the object is copied.  Otherwise, a copy will\n",
      "        only be made if ``__array__`` returns a copy, if obj is a nested\n",
      "        sequence, or if a copy is needed to satisfy any of the other\n",
      "        requirements (``dtype``, ``order``, etc.).\n",
      "    order : {'K', 'A', 'C', 'F'}, optional\n",
      "        Specify the memory layout of the array. If object is not an array, the\n",
      "        newly created array will be in C order (row major) unless 'F' is\n",
      "        specified, in which case it will be in Fortran order (column major).\n",
      "        If object is an array the following holds.\n",
      "    \n",
      "        ===== ========= ===================================================\n",
      "        order  no copy                     copy=True\n",
      "        ===== ========= ===================================================\n",
      "        'K'   unchanged F & C order preserved, otherwise most similar order\n",
      "        'A'   unchanged F order if input is F and not C, otherwise C order\n",
      "        'C'   C order   C order\n",
      "        'F'   F order   F order\n",
      "        ===== ========= ===================================================\n",
      "    \n",
      "        When ``copy=False`` and a copy is made for other reasons, the result is\n",
      "        the same as if ``copy=True``, with some exceptions for 'A', see the\n",
      "        Notes section. The default order is 'K'.\n",
      "    subok : bool, optional\n",
      "        If True, then sub-classes will be passed-through, otherwise\n",
      "        the returned array will be forced to be a base-class array (default).\n",
      "    ndmin : int, optional\n",
      "        Specifies the minimum number of dimensions that the resulting\n",
      "        array should have.  Ones will be prepended to the shape as\n",
      "        needed to meet this requirement.\n",
      "    like : array_like, optional\n",
      "        Reference object to allow the creation of arrays which are not\n",
      "        NumPy arrays. If an array-like passed in as ``like`` supports\n",
      "        the ``__array_function__`` protocol, the result will be defined\n",
      "        by it. In this case, it ensures the creation of an array object\n",
      "        compatible with that passed in via this argument.\n",
      "    \n",
      "        .. versionadded:: 1.20.0\n",
      "    \n",
      "    Returns\n",
      "    -------\n",
      "    out : ndarray\n",
      "        An array object satisfying the specified requirements.\n",
      "    \n",
      "    See Also\n",
      "    --------\n",
      "    empty_like : Return an empty array with shape and type of input.\n",
      "    ones_like : Return an array of ones with shape and type of input.\n",
      "    zeros_like : Return an array of zeros with shape and type of input.\n",
      "    full_like : Return a new array with shape of input filled with value.\n",
      "    empty : Return a new uninitialized array.\n",
      "    ones : Return a new array setting values to one.\n",
      "    zeros : Return a new array setting values to zero.\n",
      "    full : Return a new array of given shape filled with value.\n",
      "    \n",
      "    \n",
      "    Notes\n",
      "    -----\n",
      "    When order is 'A' and ``object`` is an array in neither 'C' nor 'F' order,\n",
      "    and a copy is forced by a change in dtype, then the order of the result is\n",
      "    not necessarily 'C' as expected. This is likely a bug.\n",
      "    \n",
      "    Examples\n",
      "    --------\n",
      "    >>> np.array([1, 2, 3])\n",
      "    array([1, 2, 3])\n",
      "    \n",
      "    Upcasting:\n",
      "    \n",
      "    >>> np.array([1, 2, 3.0])\n",
      "    array([ 1.,  2.,  3.])\n",
      "    \n",
      "    More than one dimension:\n",
      "    \n",
      "    >>> np.array([[1, 2], [3, 4]])\n",
      "    array([[1, 2],\n",
      "           [3, 4]])\n",
      "    \n",
      "    Minimum dimensions 2:\n",
      "    \n",
      "    >>> np.array([1, 2, 3], ndmin=2)\n",
      "    array([[1, 2, 3]])\n",
      "    \n",
      "    Type provided:\n",
      "    \n",
      "    >>> np.array([1, 2, 3], dtype=complex)\n",
      "    array([ 1.+0.j,  2.+0.j,  3.+0.j])\n",
      "    \n",
      "    Data-type consisting of more than one element:\n",
      "    \n",
      "    >>> x = np.array([(1,2),(3,4)],dtype=[('a','<i4'),('b','<i4')])\n",
      "    >>> x['a']\n",
      "    array([1, 3])\n",
      "    \n",
      "    Creating an array from sub-classes:\n",
      "    \n",
      "    >>> np.array(np.mat('1 2; 3 4'))\n",
      "    array([[1, 2],\n",
      "           [3, 4]])\n",
      "    \n",
      "    >>> np.array(np.mat('1 2; 3 4'), subok=True)\n",
      "    matrix([[1, 2],\n",
      "            [3, 4]])\n",
      "\n"
     ]
    }
   ],
   "source": [
    "help(np.array)"
   ]
  },
  {
   "cell_type": "markdown",
   "id": "4f9f2c07-87c5-45e6-b9a1-a3cb6642dbc6",
   "metadata": {},
   "source": [
    "#### PAY ATTENTION TO THE dtype:\n",
    "The **dtype** argument is almost always present in any function that creates arrays (included the function that we will show in the next cells). It is important if you want to force the array to read the input values as booleans, integers, floats, etc.. If not specified, the dtype is inferred from the input values.\n",
    "\n",
    "Moreover, numpy **has also its own data-types** for integers, floats, etc.; for example: np.int8, np.int16, np.int32, np.int64, np.float16, np.float32, np.float64, np.float128.\n",
    "\n",
    "The value after the data-type represents the bits used to save the number into the computer memory."
   ]
  },
  {
   "cell_type": "markdown",
   "id": "c941df89-b338-465e-85b9-300eab5ff9f9",
   "metadata": {},
   "source": [
    "### Array Dimensions\n",
    "\n",
    "The arrays can have any arbitrary number of **axes** (often called \"**array-dimensions**\"), in particular a number between 0 and 32 (for computational limits).\n",
    "Therefore, **0D**-arrays are another representation of **scalar** values in numpy. \n",
    "\n",
    "In general:\n",
    "- **0D**-array are scalars\n",
    "- **1D**-arrays are arrays of 0D-arrays (vectors \"written as lists\")\n",
    "- **2D**-arrays are arrays of 1D-arrays (matrices)\n",
    "- **3D**-array are arrays of 2D-arrays (3D tensors, e.g., RGB images)\n",
    "\n",
    "#### Creating Arrays from Lists\n",
    "In general, a 0D-array is created giving as input a scalar value to the function np.array. For the creation of an **ND**-array, the input usually is a list of **N lists** of **N-1 lists** of... **recursively**."
   ]
  },
  {
   "cell_type": "markdown",
   "id": "3b833d01-b616-4f9f-9108-db70fd7870af",
   "metadata": {},
   "source": [
    "#### Some Examples\n",
    "- example of **0D**-array written as a scalar, a vector, a matrix, and a tensor:"
   ]
  },
  {
   "cell_type": "code",
   "execution_count": 3,
   "id": "f2ec07c6-2eb6-46aa-9a4c-4d1a65fc0221",
   "metadata": {},
   "outputs": [
    {
     "name": "stdout",
     "output_type": "stream",
     "text": [
      "-------------------------\n",
      "0D-array with 0 axes:\n",
      "\n"
     ]
    },
    {
     "data": {
      "text/plain": [
       "array(1.)"
      ]
     },
     "metadata": {},
     "output_type": "display_data"
    },
    {
     "name": "stdout",
     "output_type": "stream",
     "text": [
      "-------------------------\n",
      "-------------------------\n",
      "0D-array with 1 axes:\n",
      "\n"
     ]
    },
    {
     "data": {
      "text/plain": [
       "array([1.])"
      ]
     },
     "metadata": {},
     "output_type": "display_data"
    },
    {
     "name": "stdout",
     "output_type": "stream",
     "text": [
      "-------------------------\n",
      "-------------------------\n",
      "0D-array with 2 axes:\n",
      "\n"
     ]
    },
    {
     "data": {
      "text/plain": [
       "array([[1.]])"
      ]
     },
     "metadata": {},
     "output_type": "display_data"
    },
    {
     "name": "stdout",
     "output_type": "stream",
     "text": [
      "-------------------------\n",
      "-------------------------\n",
      "0D-array with 3 axes:\n",
      "\n"
     ]
    },
    {
     "data": {
      "text/plain": [
       "array([[[1.]]])"
      ]
     },
     "metadata": {},
     "output_type": "display_data"
    },
    {
     "name": "stdout",
     "output_type": "stream",
     "text": [
      "-------------------------\n"
     ]
    }
   ],
   "source": [
    "for nd in range(4):\n",
    "    print('-------------------------')\n",
    "    print(f'0D-array with {nd} axes:')\n",
    "    print('')\n",
    "    display(np.array(1., ndmin=nd))\n",
    "    print('-------------------------')"
   ]
  },
  {
   "cell_type": "markdown",
   "id": "0cf41d68-e466-4329-886d-15178c59cd59",
   "metadata": {},
   "source": [
    "- example of **1D**-array written as a vector, a matrix (i.e., row-vector), and a tensor:"
   ]
  },
  {
   "cell_type": "code",
   "execution_count": 4,
   "id": "a3bf2642-fee8-4ede-8193-92696f6fe853",
   "metadata": {},
   "outputs": [
    {
     "name": "stdout",
     "output_type": "stream",
     "text": [
      "-------------------------\n",
      "1D-array with 1 axes:\n",
      "\n"
     ]
    },
    {
     "data": {
      "text/plain": [
       "array([1. , 0.5])"
      ]
     },
     "metadata": {},
     "output_type": "display_data"
    },
    {
     "name": "stdout",
     "output_type": "stream",
     "text": [
      "-------------------------\n",
      "-------------------------\n",
      "1D-array with 2 axes:\n",
      "\n"
     ]
    },
    {
     "data": {
      "text/plain": [
       "array([[1. , 0.5]])"
      ]
     },
     "metadata": {},
     "output_type": "display_data"
    },
    {
     "name": "stdout",
     "output_type": "stream",
     "text": [
      "-------------------------\n",
      "-------------------------\n",
      "1D-array with 3 axes:\n",
      "\n"
     ]
    },
    {
     "data": {
      "text/plain": [
       "array([[[1. , 0.5]]])"
      ]
     },
     "metadata": {},
     "output_type": "display_data"
    },
    {
     "name": "stdout",
     "output_type": "stream",
     "text": [
      "-------------------------\n"
     ]
    }
   ],
   "source": [
    "for nd in range(1, 4):\n",
    "    print('-------------------------')\n",
    "    print(f'1D-array with {nd} axes:')\n",
    "    print('')\n",
    "    display(np.array([1., 0.5], ndmin=nd))\n",
    "    print('-------------------------')"
   ]
  },
  {
   "cell_type": "markdown",
   "id": "e33e70c7-d058-414b-9767-395b26dc6930",
   "metadata": {},
   "source": [
    "- example of **2D**-array written as a matrix, and a tensor:"
   ]
  },
  {
   "cell_type": "code",
   "execution_count": 5,
   "id": "0f59493a-c502-471a-a8f6-033be4371553",
   "metadata": {},
   "outputs": [
    {
     "name": "stdout",
     "output_type": "stream",
     "text": [
      "-------------------------\n",
      "2D-array with 2 axes:\n",
      "\n"
     ]
    },
    {
     "data": {
      "text/plain": [
       "array([[1. , 0.5],\n",
       "       [0.5, 1. ]])"
      ]
     },
     "metadata": {},
     "output_type": "display_data"
    },
    {
     "name": "stdout",
     "output_type": "stream",
     "text": [
      "-------------------------\n",
      "-------------------------\n",
      "2D-array with 3 axes:\n",
      "\n"
     ]
    },
    {
     "data": {
      "text/plain": [
       "array([[[1. , 0.5],\n",
       "        [0.5, 1. ]]])"
      ]
     },
     "metadata": {},
     "output_type": "display_data"
    },
    {
     "name": "stdout",
     "output_type": "stream",
     "text": [
      "-------------------------\n"
     ]
    }
   ],
   "source": [
    "for nd in range(2, 4):\n",
    "    print('-------------------------')\n",
    "    print(f'2D-array with {nd} axes:')\n",
    "    print('')\n",
    "    display(np.array([[1., 0.5], [0.5, 1.]], ndmin=nd))\n",
    "    print('-------------------------')"
   ]
  },
  {
   "cell_type": "markdown",
   "id": "d6c80c03-17b9-4d0d-b366-2cde776580a5",
   "metadata": {},
   "source": [
    "- example of **3D**-array written as a tensor:"
   ]
  },
  {
   "cell_type": "code",
   "execution_count": 6,
   "id": "47f80c9c-0503-48d5-b4d6-22dbd55569b7",
   "metadata": {},
   "outputs": [
    {
     "name": "stdout",
     "output_type": "stream",
     "text": [
      "3D-array with 3 axes:\n",
      "\n"
     ]
    },
    {
     "data": {
      "text/plain": [
       "array([[[1. , 0.5],\n",
       "        [0.5, 1. ]],\n",
       "\n",
       "       [[2. , 1.5],\n",
       "        [1.5, 2. ]]])"
      ]
     },
     "metadata": {},
     "output_type": "display_data"
    }
   ],
   "source": [
    "print(f'3D-array with {nd} axes:')\n",
    "print('')\n",
    "display(np.array([[[1., 0.5], [0.5, 1.]], [[2., 1.5], [1.5, 2.]]]))"
   ]
  },
  {
   "cell_type": "markdown",
   "id": "5bfa4f64-a039-49cf-b40b-382b07f7eb49",
   "metadata": {},
   "source": [
    "### Some Functions for Arrays Creation\n",
    "\n",
    "Here, we have a list of some of the main numpy **functions** for the **creation of arrays**:\n",
    "- np.**identity**(n): returns the $\\mathbb{R}^{n\\times n}$ Identity matrix (2D-array). For more information, read the help of the function (uncomment the code in the next cell)."
   ]
  },
  {
   "cell_type": "code",
   "execution_count": 7,
   "id": "b4d323a7-dbe6-4013-8e28-4e33f65bc8f4",
   "metadata": {},
   "outputs": [],
   "source": [
    "# help(np.identity)"
   ]
  },
  {
   "cell_type": "markdown",
   "id": "e970aa83-888f-4712-a7d4-eb46efd203f7",
   "metadata": {},
   "source": [
    "- np.**eye**(n,m,k): returns a matrix in $\\mathbb{R}^{n\\times m}$ having all null elements with the exception of the elements of index $(i, i+k)$ that are euqal to $1$ (i.e., the $k$-th diagonal elements are $1$). The argument k can be omitted and it is equal to zero by default. For more information, read the help of the function (uncomment the code in the next cell)."
   ]
  },
  {
   "cell_type": "code",
   "execution_count": 8,
   "id": "3bec61a8-e792-435d-b1bf-c0ec7a91e32f",
   "metadata": {},
   "outputs": [],
   "source": [
    "# help(np.eye)"
   ]
  },
  {
   "cell_type": "markdown",
   "id": "3e4538c6-e960-42b7-84c3-daf2ef4a9f11",
   "metadata": {},
   "source": [
    "- np.**zeros**( (d1, ..., dN) ): returns the null ND-array in the space $\\mathbb{R}^{d_1\\times\\cdots\\times d_N}$. For more information, read the help of the function (uncomment the code in the next cell)."
   ]
  },
  {
   "cell_type": "code",
   "execution_count": 9,
   "id": "0792d80c-dbe6-43bc-aa5a-fab81dc08943",
   "metadata": {},
   "outputs": [],
   "source": [
    "# help(np.zeros)"
   ]
  },
  {
   "cell_type": "markdown",
   "id": "2d82fc44-c253-4b92-87ad-4c0db8802418",
   "metadata": {},
   "source": [
    "- np.**ones**( (d1, ..., dN) ): returns the ND-array in the space $\\mathbb{R}^{d_1\\times\\cdots\\times d_N}$, with all elements equal to 1. For more information, read the help of the function (uncomment the code in the next cell)."
   ]
  },
  {
   "cell_type": "code",
   "execution_count": 10,
   "id": "d14a1a68-b949-4cf5-bad2-f907f1950047",
   "metadata": {},
   "outputs": [],
   "source": [
    "# help(np.ones)"
   ]
  },
  {
   "cell_type": "markdown",
   "id": "d04f1d24-658f-48fa-a089-7c787f18c68b",
   "metadata": {},
   "source": [
    "- np.**random.rand**(d1,... ,dN): returns the ND-array in $\\mathbb{R}^{d_1\\times\\cdots\\times d_N}$, with all elements randomly chosen in $[0,1]$ (w.r.t. uniform distribution). If you do not insert any argument, the function returns a scalar (ATTENTION, not a 0D-array!). For more information, read the help of the function (uncomment the code in the next cell)."
   ]
  },
  {
   "cell_type": "code",
   "execution_count": 11,
   "id": "32799ebb-7a69-457d-96b0-1fd98649ca8e",
   "metadata": {},
   "outputs": [],
   "source": [
    "# help(np.random.rand)"
   ]
  },
  {
   "cell_type": "markdown",
   "id": "f69e276f-2b5f-46ce-8921-87b2039aa9fc",
   "metadata": {},
   "source": [
    "- np.**arange**(n0,nFin,step): it is the array-version of the clssic python range objects. this function returns the 1D-array having elements between **n0** (*included*, default 0 if omitted) and **nFin** (excluded), with a step-length equal to **step** (default 1 if omitted). For more information, read the help of the function (uncomment the code in the next cell)."
   ]
  },
  {
   "cell_type": "code",
   "execution_count": 12,
   "id": "f63ad26d-5346-4ae2-81ba-0f38cd8c1a3e",
   "metadata": {},
   "outputs": [],
   "source": [
    "# help(np.arange)"
   ]
  },
  {
   "cell_type": "markdown",
   "id": "6ba620f4-1ee8-4786-b4df-ff02741f22ac",
   "metadata": {},
   "source": [
    "- np.**linspace**(start, stop, num): returns a 1D-array of num (default 50 if omitted) equally-spaced elements in the interval [start, stop]. For more information, read the help of the function (uncomment the code in the next cell)."
   ]
  },
  {
   "cell_type": "code",
   "execution_count": 13,
   "id": "57f84ee5-6ac6-4802-9b4a-6469b790b261",
   "metadata": {},
   "outputs": [],
   "source": [
    "# help(np.linspace)"
   ]
  },
  {
   "cell_type": "markdown",
   "id": "8ce212fe-7baa-4617-aed4-08163f081b57",
   "metadata": {},
   "source": [
    "### Array Methods & Attributes\n",
    "\n",
    "Most of the methods and attributes of the array objects (here represented by **v**) are the following ones:\n",
    "- v.**shape**: is the tuple (d1, ..., dN) if v is an ND-array in $\\mathbb{R}^{d_1\\times\\cdots\\times d_N}$. If v is a 1D-array, the tuple is in the form (d1, ); if v is a 0D-array the tuple is empty, i.e. (). In the following cell, you can see few examples."
   ]
  },
  {
   "cell_type": "code",
   "execution_count": 14,
   "id": "c913e9d5-5e07-45b1-a083-d0efddcde8fa",
   "metadata": {},
   "outputs": [
    {
     "name": "stdout",
     "output_type": "stream",
     "text": [
      "The shape of 0.46914615245234503 is ()\n",
      "\n",
      "The shape of [0.61319799 0.57334465 0.83235555 0.45703932] is (4,)\n",
      "\n",
      "The shape of [[0.82731777 0.19411557 0.94913531 0.69936037]\n",
      " [0.17369539 0.68298924 0.16345334 0.19048786]\n",
      " [0.72428524 0.83349329 0.48670175 0.18625771]] is (3, 4)\n",
      "\n"
     ]
    }
   ],
   "source": [
    "v1 = np.array(np.random.rand())  # random 0D-array\n",
    "v2 = np.random.rand(4)  # random 1D-array of 4 elements\n",
    "v3 = np.random.rand(3, 4)  # random 2D-array 3-by-4 elements\n",
    "\n",
    "for v in [v1, v2, v3]:\n",
    "    print(f'The shape of {v} is {v.shape}')\n",
    "    print('')"
   ]
  },
  {
   "cell_type": "markdown",
   "id": "6884283a-8df9-4232-a5b1-c6dec1f84adf",
   "metadata": {},
   "source": [
    "- v.**ndim**: is the number of axes (\"array-dimensions\") of v; then, v.ndim is equal to the length of the tuple v.shape. In the following cell, you can see few examples."
   ]
  },
  {
   "cell_type": "code",
   "execution_count": 15,
   "id": "5a7d4c86-6bb6-4474-af0d-e91d06fb1d99",
   "metadata": {},
   "outputs": [
    {
     "name": "stdout",
     "output_type": "stream",
     "text": [
      "The ndim of 0.46914615245234503 is 0\n",
      "\n",
      "The ndim of [0.61319799 0.57334465 0.83235555 0.45703932] is 1\n",
      "\n",
      "The ndim of [[0.82731777 0.19411557 0.94913531 0.69936037]\n",
      " [0.17369539 0.68298924 0.16345334 0.19048786]\n",
      " [0.72428524 0.83349329 0.48670175 0.18625771]] is 2\n",
      "\n"
     ]
    }
   ],
   "source": [
    "for v in [v1, v2, v3]:\n",
    "    print(f'The ndim of {v} is {v.ndim}')\n",
    "    print('')"
   ]
  },
  {
   "cell_type": "markdown",
   "id": "b8d16003-f3d8-44d7-99b2-1dc69eb24e11",
   "metadata": {},
   "source": [
    "- v.**size**: is the total number of elements in v; then, v.size is equal to the product of the values in the tuple v.shape (with the only exception of the 0D-arrays that have always size 1). In the following cell, you can see few examples."
   ]
  },
  {
   "cell_type": "code",
   "execution_count": 16,
   "id": "08166003-31f6-472f-8b10-15afeba01899",
   "metadata": {},
   "outputs": [
    {
     "name": "stdout",
     "output_type": "stream",
     "text": [
      "The size of 0.46914615245234503 is 1\n",
      "\n",
      "The size of [0.61319799 0.57334465 0.83235555 0.45703932] is 4\n",
      "\n",
      "The size of [[0.82731777 0.19411557 0.94913531 0.69936037]\n",
      " [0.17369539 0.68298924 0.16345334 0.19048786]\n",
      " [0.72428524 0.83349329 0.48670175 0.18625771]] is 12\n",
      "\n"
     ]
    }
   ],
   "source": [
    "for v in [v1, v2, v3]:\n",
    "    print(f'The size of {v} is {v.size}')\n",
    "    print('')"
   ]
  },
  {
   "cell_type": "markdown",
   "id": "c0522ef6-7dbf-4930-acfa-c412404af3f0",
   "metadata": {},
   "source": [
    "- v.**T**: is the transpose of v (no effect if v is a 0D/1D-array). In the following cell, you can see an example."
   ]
  },
  {
   "cell_type": "code",
   "execution_count": 17,
   "id": "8a6f671c-1735-4974-8acf-2f8d857a9a3f",
   "metadata": {},
   "outputs": [
    {
     "name": "stdout",
     "output_type": "stream",
     "text": [
      "This is a matrix:\n",
      "[[0.82731777 0.19411557 0.94913531 0.69936037]\n",
      " [0.17369539 0.68298924 0.16345334 0.19048786]\n",
      " [0.72428524 0.83349329 0.48670175 0.18625771]]\n",
      "\n",
      "This is its transpose:\n",
      "[[0.82731777 0.17369539 0.72428524]\n",
      " [0.19411557 0.68298924 0.83349329]\n",
      " [0.94913531 0.16345334 0.48670175]\n",
      " [0.69936037 0.19048786 0.18625771]]\n"
     ]
    }
   ],
   "source": [
    "print(f'This is a matrix:')\n",
    "print(f'{v3}')\n",
    "print('')\n",
    "print(f'This is its transpose:')\n",
    "print(f'{v3.T}')"
   ]
  },
  {
   "cell_type": "markdown",
   "id": "79793503-6ae6-4a64-bc10-df65e708ffda",
   "metadata": {},
   "source": [
    "- v.**copy**(): returns a new object that is a copy of v. VERY IMPORTAT TO AVOID VARIABLE-ERRORS IN THE CODE! In the following cell, you can see an example."
   ]
  },
  {
   "cell_type": "code",
   "execution_count": 18,
   "id": "cbe51429-4ee4-42a7-9f9a-dd0056c7c436",
   "metadata": {},
   "outputs": [
    {
     "name": "stdout",
     "output_type": "stream",
     "text": [
      "Do the copies have the same value(s) of the original array? Answer: True\n",
      "Do the copies point to the same object in memory of the original array? Answer: False\n"
     ]
    }
   ],
   "source": [
    "v1b = v1.copy()\n",
    "\n",
    "print(f'Do the copies have the same value(s) of the original array? Answer: {v1 == v1b}')\n",
    "print(f'Do the copies point to the same object in memory of the original array? Answer: {v1 is v1b}')"
   ]
  },
  {
   "cell_type": "markdown",
   "id": "9c46505f-7751-4108-8a34-4909a2d64e3c",
   "metadata": {},
   "source": [
    "- v.**nonzero**(): returns a tuple with N arrays defining the indexes $(i, j, \\ldots)$ corresponding to non-zero elements of v. In the following cell, you can see an example."
   ]
  },
  {
   "cell_type": "code",
   "execution_count": 19,
   "id": "3bd451ba-cfad-4eaa-9e48-5e8b5481ef09",
   "metadata": {},
   "outputs": [
    {
     "name": "stdout",
     "output_type": "stream",
     "text": [
      "The nonzero elements of the matrix are: (array([0, 1, 2]), array([0, 1, 2]))\n",
      "\n",
      "To read \"better\" the indexes of the nonzero elements:\n",
      "Nonzero element 1: (0, 0)\n",
      "Nonzero element 2: (1, 1)\n",
      "Nonzero element 3: (2, 2)\n"
     ]
    }
   ],
   "source": [
    "I3 = np.identity(3)\n",
    "\n",
    "print(f'The nonzero elements of the matrix are: {I3.nonzero()}')\n",
    "print('')\n",
    "print('To read \"better\" the indexes of the nonzero elements:')\n",
    "\n",
    "num_indexes = len(I3.nonzero()[0])\n",
    "for n in range(num_indexes):\n",
    "    idxs = [arr[n] for arr in I3.nonzero()]  # EXERCISE: remember how to use for cycles in 1 line to build sequences!\n",
    "    print(f'Nonzero element {n + 1}: {tuple(idxs)}')"
   ]
  },
  {
   "cell_type": "markdown",
   "id": "5fcede06-6c68-4959-96e6-c42d35697311",
   "metadata": {},
   "source": [
    "- v.**reshape**((d1', ..., dM')): returns an array in $\\mathbb{R}^{d'_1\\times\\cdots\\times d'_M}$ having the same elements of v but \"reshaped\" (ATTENTION: the reshaped vector must have the same size!). In the following cell, you can see an example."
   ]
  },
  {
   "cell_type": "code",
   "execution_count": 20,
   "id": "b04e41dd-4064-41df-89f6-5eb41e5f16c4",
   "metadata": {},
   "outputs": [
    {
     "name": "stdout",
     "output_type": "stream",
     "text": [
      "Original matrix of shape (3, 4) (size 12):\n",
      "[[0.82731777 0.19411557 0.94913531 0.69936037]\n",
      " [0.17369539 0.68298924 0.16345334 0.19048786]\n",
      " [0.72428524 0.83349329 0.48670175 0.18625771]]\n",
      "\n",
      "Reshaped matrix of shape (2, 6) (size 12):\n",
      "[[0.82731777 0.19411557 0.94913531 0.69936037 0.17369539 0.68298924]\n",
      " [0.16345334 0.19048786 0.72428524 0.83349329 0.48670175 0.18625771]]\n"
     ]
    }
   ],
   "source": [
    "v3rs = v3.reshape((2, 6))\n",
    "\n",
    "print(f'Original matrix of shape {v3.shape} (size {v3.size}):')\n",
    "print(v3)\n",
    "print('')\n",
    "print(f'Reshaped matrix of shape {v3rs.shape} (size {v3rs.size}):')\n",
    "print(v3rs)"
   ]
  },
  {
   "cell_type": "markdown",
   "id": "4783f586-8907-41dc-8c84-8b4c04626fc6",
   "metadata": {},
   "source": [
    "- v.**sum**(axis=(ax_i1, ..., ax_im)): returns an array obtained summing the elements of v, w.r.t. the axes specified by tuple of axes $(ax_{i_1}, \\ldots, ax_{i_m})$. If no argument is specified, all the elements are summed up. If only one axis is required, the syntax can be v.sum(axis=ax_i). In the following cell, you can see few examples."
   ]
  },
  {
   "cell_type": "code",
   "execution_count": 21,
   "id": "560f267b-22e5-48fc-a409-74f0eacd7d56",
   "metadata": {},
   "outputs": [
    {
     "name": "stdout",
     "output_type": "stream",
     "text": [
      "Sum of v3 \"moving along the rows\": [1.7252984  1.71059811 1.5992904  1.07610594]\n",
      "Sum of v3 \"moving along the columns\": [2.66992901 1.21062583 2.230738  ]\n",
      "Sum of all the elements in v3: 6.111292843495351\n"
     ]
    }
   ],
   "source": [
    "print(f'Sum of v3 \"moving along the rows\": {v3.sum(axis=0)}')\n",
    "print(f'Sum of v3 \"moving along the columns\": {v3.sum(axis=1)}')\n",
    "print(f'Sum of all the elements in v3: {v3.sum()}')"
   ]
  },
  {
   "cell_type": "markdown",
   "id": "158acfa0-deec-4940-b9f5-b864c8164e4c",
   "metadata": {},
   "source": [
    "- v.**max**(axis=(ax_i1, ..., ax_im)): returns an array with the maximum elements of v, w.r.t. the axes specified by tuple of axes $(ax_{i_1}, \\ldots, ax_{i_m})$. If no argument is specified, the maximum is w.r.t. all the elements. If only one axis is required, the syntax can be v.max(axis=ax_i). The mechanism is the same of the method v.sum()"
   ]
  },
  {
   "cell_type": "markdown",
   "id": "db7d3325-ef33-4ab9-8337-1156297fdf46",
   "metadata": {},
   "source": [
    "#### Other Methods\n",
    "Many other methods exist and you can find in the official documentation of numpy. Some other basic methods are, e.g., v.**prod**() or v.**min**() that work in the same way of v.sum() and v.max() respectively."
   ]
  },
  {
   "cell_type": "markdown",
   "id": "e4b55327-ee22-4cb7-96fe-24f8fbf8fdc8",
   "metadata": {},
   "source": [
    "#### Indexing in Python STARTS FROM ZERO!\n",
    "**Attention:** the indexing criterion used in Python starts from 0 and not from 1 (as Matlab, e.g.). Therefore, if we want to sum the elements of v w.r.t. the first and the third dimension (for example), we must call the sum method typing: v.sum((0, 2))."
   ]
  },
  {
   "cell_type": "markdown",
   "id": "c4fd285c-893e-4d66-ba74-48f1ead9a452",
   "metadata": {},
   "source": [
    "## Indexing and Slicing\n",
    "Since the sequences (lists, tuples and 1D-arrays) are ordered \"containers\" of objects, their elements are indexed and two special operations are defined:\n",
    "- **Indexing:** selects single elements of the sequence with the command **seq[index]**.\n",
    "- **Slicing:** extracts \"portions\" of the sequence (syntax similar to the arguments for ranges), typing **seq[i0:iFin:step]**. By default i0 is 0 (if omitted), default iFin is length (if omitted), default step is 1 (if omitted). The first colon must be always written even if i0 is omitted. The second colon is not necessary if step is omitted. ATTENTION: as for the ranges, i0 is INCLUDED and iFin is EXCLUDED!\n",
    "\n",
    "#### The Backward Indexing\n",
    "Given a generic sequence of $n$ elements, this elements are can be indexed also \"from the end\"; i.e., indexed from $-n$ (the first element, equivalent to index 0) to $-1$ (the last element, equivalent to index $n-1$). Therefore an element can be indexed both with the index $-j$ and $n-j$, for each $j\\in\\{1, \\ldots, n\\}$."
   ]
  },
  {
   "cell_type": "markdown",
   "id": "0cffa9f3-360a-4f83-8056-f6f0ce11f254",
   "metadata": {},
   "source": [
    "### Indexing Examples"
   ]
  },
  {
   "cell_type": "code",
   "execution_count": 22,
   "id": "4d3086f7-9639-4d70-8337-1b1af1c79b2f",
   "metadata": {},
   "outputs": [
    {
     "name": "stdout",
     "output_type": "stream",
     "text": [
      "Original sequence vseq: [ 2  4  6  8 10 12 14 16 18 20]\n",
      "vseq[0] --> 2\n",
      "vseq[9] --> 20\n",
      "vseq[-1] --> 20\n",
      "vseq[-10] --> 2\n"
     ]
    }
   ],
   "source": [
    "vseq = np.arange(2, 21, 2)\n",
    "\n",
    "print(f'Original sequence vseq: {vseq}')\n",
    "print(f'vseq[0] --> {vseq[0]}')\n",
    "print(f'vseq[9] --> {vseq[9]}')\n",
    "print(f'vseq[-1] --> {vseq[-1]}')\n",
    "print(f'vseq[-10] --> {vseq[-10]}')"
   ]
  },
  {
   "cell_type": "markdown",
   "id": "ec843fe3-ef30-4505-a606-28e65f2f21bb",
   "metadata": {},
   "source": [
    "### Slicing Examples"
   ]
  },
  {
   "cell_type": "code",
   "execution_count": 23,
   "id": "5ec2bff4-587d-4507-85fa-2a8041686e32",
   "metadata": {},
   "outputs": [
    {
     "name": "stdout",
     "output_type": "stream",
     "text": [
      "Original sequence vseq: [ 2  4  6  8 10 12 14 16 18 20]\n",
      "vseq[0:6] --> [ 2  4  6  8 10 12]\n",
      "vseq[:6] --> [ 2  4  6  8 10 12]\n",
      "vseq[0:-4] --> [ 2  4  6  8 10 12]\n",
      "vseq[:-4] --> [ 2  4  6  8 10 12]\n",
      "vseq[-10:-4] --> [ 2  4  6  8 10 12]\n",
      "vseq[-10:6] --> [ 2  4  6  8 10 12]\n",
      "vseq[0:6:2] --> [ 2  6 10]\n",
      "vseq[::2] --> [ 2  6 10 14 18]\n",
      "vseq[::] --> [ 2  4  6  8 10 12 14 16 18 20]\n"
     ]
    }
   ],
   "source": [
    "print(f'Original sequence vseq: {vseq}')\n",
    "print(f'vseq[0:6] --> {vseq[0:6]}')\n",
    "print(f'vseq[:6] --> {vseq[:6]}')\n",
    "print(f'vseq[0:-4] --> {vseq[0:-4]}')\n",
    "print(f'vseq[:-4] --> {vseq[:-4]}')\n",
    "print(f'vseq[-10:-4] --> {vseq[-10:-4]}')\n",
    "print(f'vseq[-10:6] --> {vseq[-10:6]}')\n",
    "print(f'vseq[0:6:2] --> {vseq[0:6:2]}')\n",
    "print(f'vseq[::2] --> {vseq[::2]}')\n",
    "print(f'vseq[::] --> {vseq[::]}')"
   ]
  },
  {
   "cell_type": "markdown",
   "id": "f5409a09-8f41-43bb-b3eb-dd41362b1fc3",
   "metadata": {},
   "source": [
    "## Indexing & Slicing Generalized to N Dimensional Arrays\n",
    "Let v be an ND-array with N axes indexed from 0 to N-1; then, we can perform indexing and slicing operation w.r.t. each axes, typing **v[index or slice axis0, ..., index or slice axisN-1]**. The result is an \"ND-sub-array\" of v. See the next cell for an example."
   ]
  },
  {
   "cell_type": "code",
   "execution_count": 24,
   "id": "db14787b-4aff-4d95-8ddc-e1ad4bf131f9",
   "metadata": {},
   "outputs": [
    {
     "name": "stdout",
     "output_type": "stream",
     "text": [
      "Submatrix of v3 that takes rows 1,3, and columns 2,4:\n",
      "[[0.19411557 0.69936037]\n",
      " [0.83349329 0.18625771]]\n"
     ]
    }
   ],
   "source": [
    "print('Submatrix of v3 that takes rows 1,3, and columns 2,4:')\n",
    "print(v3[0::2, 1::2])"
   ]
  },
  {
   "cell_type": "markdown",
   "id": "37b79ed4-59a3-4a68-bd93-8ceb3d65b0e4",
   "metadata": {},
   "source": [
    "## Delete Rows/Columns from a Matrix\n",
    "\n",
    "To delete rows or columns from a matrix, we can use the *np.delete* function of numpy. Actually, the function works also for ND-arrays.\n",
    "- np.**delete**(array, sequence_of_inds, axis): Return a new array with sub-arrays along an axis deleted. Specifically, it returns a sub array where the i-th arrays of the given axis is removed, for each i in *sequence_of_inds*."
   ]
  },
  {
   "cell_type": "code",
   "execution_count": 25,
   "id": "7b17798c-4a42-49c2-a66f-d612b5b5186d",
   "metadata": {},
   "outputs": [
    {
     "name": "stdout",
     "output_type": "stream",
     "text": [
      "Removed rows 0 and 2 from v3:\n",
      "[[0.17369539 0.68298924 0.16345334 0.19048786]]\n",
      "\n",
      "Removed column 1 from v3:\n",
      "[[0.82731777 0.94913531 0.69936037]\n",
      " [0.17369539 0.16345334 0.19048786]\n",
      " [0.72428524 0.48670175 0.18625771]]\n"
     ]
    }
   ],
   "source": [
    "# help(np.delete)  # Uncomment this line to read the help of the function\n",
    "\n",
    "v3_norow_0_2 = np.delete(v3, [0, 2], axis=0)\n",
    "v3_nocol_1 = np.delete(v3, 1, axis=1)\n",
    "\n",
    "print('Removed rows 0 and 2 from v3:')\n",
    "print(v3_norow_0_2)\n",
    "print('')\n",
    "print('Removed column 1 from v3:')\n",
    "print(v3_nocol_1)"
   ]
  },
  {
   "cell_type": "markdown",
   "id": "bdef72c1-f2ef-466f-a426-7d802448a2f9",
   "metadata": {},
   "source": [
    "## Operations with Arrays\n",
    "\n",
    "All the classic arithmetic python operations (+, -, $\\ *$, /, //, $\\%$) are executed **element-wise** by numpy/scipy.\n",
    "\n",
    "The matrix-matrix multiplication and the scalar product between vectors are performed in numpy/scipy using the function np.**matmul** (easily represented by the operator **@** when used for 2D-arrays).\n",
    "In particular, for each v1, v2 arrays (both 1D or both 2D, we do not consider other cases for simplicity) the np.matmul function works in the following way:\n",
    "- np.**matmul**(v1, v2): returns the matrix-matrix product if v1, v2 are both 2D-arrays, otherwise (both 1D-arrays) returns the scalar product.\n",
    "\n",
    "**ATTENTION:** if you need to multiply a matrix by a vector, the vector **must be a 2D-array** (of the proper shape for the matrix-matrix product).\n",
    "\n",
    "See in the next cell few examples."
   ]
  },
  {
   "cell_type": "code",
   "execution_count": 26,
   "id": "b75c1a7c-4105-400f-b7fb-ff131132fa01",
   "metadata": {},
   "outputs": [
    {
     "name": "stdout",
     "output_type": "stream",
     "text": [
      "Scalar product of v2 with itself: 1.6064365562099523\n",
      "\n",
      "Matrix-matrix product of v3 with its transpose:\n",
      "[[2.11209829 0.56463912 1.35321515]\n",
      " [0.56463912 0.55964702 0.81010482]\n",
      " [1.35321515 0.81010482 1.49087071]]\n",
      "\n",
      "Matrix-matrix product of v3 with its transpose, using the @ operator:\n",
      "[[2.11209829 0.56463912 1.35321515]\n",
      " [0.56463912 0.55964702 0.81010482]\n",
      " [1.35321515 0.81010482 1.49087071]]\n",
      "\n",
      "Matrix-matrix product of v3 with v2 (reshaped as a column vector), using the @ operator:\n",
      "[[1.72825794]\n",
      " [0.72120963]\n",
      " [1.41224517]]\n"
     ]
    }
   ],
   "source": [
    "print(f'Scalar product of v2 with itself: {np.matmul(v2, v2)}')\n",
    "print('')\n",
    "print(f'Matrix-matrix product of v3 with its transpose:')\n",
    "print(np.matmul(v3, v3.T))\n",
    "print('')\n",
    "print(f'Matrix-matrix product of v3 with its transpose, using the @ operator:')\n",
    "print(v3 @ v3.T)\n",
    "print('')\n",
    "print(f'Matrix-matrix product of v3 with v2 (reshaped as a column vector), using the @ operator:')\n",
    "print(v3 @ v2.reshape((4, 1)))"
   ]
  },
  {
   "cell_type": "markdown",
   "id": "61c7a913-3b3e-4a04-8eda-0566fbca4722",
   "metadata": {},
   "source": [
    "## Basic Linear Algebra Built-in Functions & Procedures\n",
    "\n",
    "Here, we have a list of some of the main numpy **functions** and/or **procedures** for Linear Algebra (submodule *np.linalg.*):\n",
    "- np.linalg.**norm**(x, ord=None, axis=None): returns the norm of order *ord* of the input array *x* (ATTENTION: authomatically select matrix/vector norms!)\n",
    "- np.linalg.**cond**(x): returns the condition number of *x*.\n",
    "- np.linalg.**det**(a): computes the determinant of a square matrix.\n",
    "- np.linalg.**matrix_rank**(A): computes the rank of a matrix.\n",
    "- np.linalg.**solve**(A, B): computes the solution $X\\in\\mathbb{R}^{n\\times k}$ of $AX=B$, $A\\in\\mathbb{R}^{n\\times n},\\,B\\in\\mathbb{R}^{n\\times k}$ ($k$ square lin. sys.s) using direct methods.\n",
    "\n",
    "**N.B.:** for more details and extra inputs, see the official documentation or the help of these functions.\n",
    "\n",
    "### Advanced Linear Algebra Built-in Functions & Procedures\n",
    "\n",
    "For advanced Linear Algebra functions and procedures, see both the submodule *np.linalg* and the submodule *sp.linalg*."
   ]
  },
  {
   "cell_type": "markdown",
   "id": "69ef1b63-a048-4a73-b55d-92bebf90a42b",
   "metadata": {},
   "source": [
    "# Sparse Matrices\n",
    "\n",
    "To work with sparse matrices in Python, we use the **scipy** (sp) package, in particular the sub-package **scipy.sparse**.\n",
    "In the next slides, we will report the basic informations (also written in the official documentation).\n",
    "The storage schemes in scipy.sparse are:\n",
    "1. Type 1 storage schemes:\n",
    "    1. scipy.sparse.**dok_array**(): DOK (dictionary-of-keys) based sparse matrix (analogous: .**dok_matrix**());\n",
    "    1. scipy.sparse.**lil_array**(): Row-based LIL (list-of-lists) sparse matrix (analogous: .**lil_matrix**());\n",
    "    1. scipy.sparse.**coo_array**(): sparse matrix in COO (coordinate) format (analogous: .**coo_matrix**());\n",
    "1. Type 2 storage schemes:\n",
    "    1. scipy.sparse.**csr_array**(): CSR (compressed-sparse-rows) matrix (analogous: .**csr_matrix**());\n",
    "    1. scipy.sparse.**csc_array**(): CSC (compressed-sparse-columns) matrix (analogous: .**csc_matrix**());\n",
    "    1. scipy.sparse.**bsr_array**(): Block Sparse Row matrix (analogous: .**bsr_matrix**());\n",
    "1. Type 3 storage schemes:\n",
    "    1. scipy.sparse.**dia_array**(): Sparse matrix with DIAG (diagonal) storage (analogous: .**dia_matrix**()).\n",
    "\n",
    "**N.B.:** to define a sparse matrix using these functions, read the documentation at https://docs.scipy.org/doc/scipy/reference/sparse.html"
   ]
  },
  {
   "cell_type": "markdown",
   "id": "f908c955-68a9-49f2-802e-69b5c4570550",
   "metadata": {},
   "source": [
    "Here we report some basic functions of the scipy.sparse subpackage. See the official guide to learn more functions.\n",
    "Italic arguments are the optional ones.\n",
    "- scipy.sparse.**identity**(n, _dtype_, _format_): creates a sparse identity matrix $\\mathbb{I}_n\\in\\mathbb{R}^{n\\times n}$ of data type _dtype_ (default float) and sparse format _format_ (default dia_matrix);\n",
    "- scipy.sparse.**rand**(m, n, _density, format, dtype, random state_): creates a random sparse matrix in $\\mathbb{R}^{m\\times n}$ in format _format_ (default coo_matrix) with density _density_ (default 0.01). Equivalently: scipy.sparse.**random**();\n",
    "- scipy.sparse.**find**(A): returns three arrays JR (row indexes), JC (column indexes), AA (values) corresponding to the representation of the sparse matrix A in the COO format."
   ]
  },
  {
   "cell_type": "markdown",
   "id": "f32c84c3-5093-4406-ad96-6648a59316cd",
   "metadata": {},
   "source": [
    "### Methods and Sparse-Matrix Product\n",
    "Here we report some basic methods/attributes of a generic sparse matrix **S**. See the methods of the many typologies of sparse matrices to know better all their methods and attributes.\n",
    "- S.**todense**(): convert the sparse matrix to its dense representation... **be careful!** If the matrix is too big, the memory can be unable to store it!;\n",
    "- S.**todok**(), S.**tocoo**(), S.**tolil**(), S.**tocsr**(), S.**tocsc**(): convert the sparse matrix of a given type to the indicated type of sparse storage;\n",
    "- S.**dot**(P): do the matrix-matrix product $S\\, P$. If P is dense, the result is dense (then, **be careful!**). If both S and P are sparse, but they are not both in csr/csc format, the method convert the matrices into one of these formats to perform the product; then, the output matrix will be of that type.\n",
    "\n",
    "**N.B.:** the product can be done also using the operator **@**, the same for the matrix-matrix product in numpy for dense matrices."
   ]
  },
  {
   "cell_type": "markdown",
   "id": "c095284e-7656-4e4c-a72a-304317191fbf",
   "metadata": {},
   "source": [
    "### Suggestions for Sparse-Matrix Operations\n",
    "\n",
    "Before seeing some examples, we list some suggestions for sparse-matrix operations.\n",
    "\n",
    "- **dok_array** format:\n",
    "    - **PROs**: \n",
    "        - Allows for efficient $O(1)$ access to individual elements\n",
    "        - Can be efficiently converted to a coo_matrix once constructed.\n",
    "    - **CONs**: \n",
    "        - Bad for any kind of operation.\n",
    "- **lil_array** format:\n",
    "    - **PROs**: \n",
    "        - Supports flexible slicing;\n",
    "        - Changes to the matrix sparsity structure are efficient.\n",
    "    - **CONs**: \n",
    "        - Arithmetic operations LIL + LIL are slow (consider CSR or CSC);\n",
    "        - Slow column slicing (consider CSC);\n",
    "        - Slow matrix vector products (consider CSR or CSC);\n",
    "- **coo_array** format:\n",
    "    - **PROs**: \n",
    "        - Facilitates fast conversion among sparse formats;\n",
    "        - Very fast conversion to and from CSR/CSC formats;\n",
    "        - Fast format for constructing sparse matrices;\n",
    "    - **CONs**: \n",
    "        - does not directly support arithmetic operations;\n",
    "        - does not directly support slicing;\n",
    "- **csr_array** format:\n",
    "    - **PROs**:\n",
    "        - Efficient arithmetic operations CSR + CSR, CSR * CSR, etc.;\n",
    "        - Efficient row slicing;\n",
    "        - Fast matrix vector products.\n",
    "    - **CONs**: \n",
    "        - Slow column slicing operations (consider CSC);\n",
    "        - Changes to the sparsity structure are expensive (consider LIL or DOK).\n",
    "- **csc_array** format:\n",
    "    - **PROs**: \n",
    "        - Efficient arithmetic operations CSC + CSC, CSC * CSC, etc.;\n",
    "        - Efficient column slicing;\n",
    "        - Fast matrix vector products (CSR may be faster);\n",
    "    - **CONs**: \n",
    "        - Slow row slicing operations (consider CSR);\n",
    "        - Changes to the sparsity structure are expensive (consider LIL or DOK).\n",
    "- **dia_array** format:\n",
    "    - **PROs/CONs**: \n",
    "        - depends on the applications."
   ]
  },
  {
   "cell_type": "markdown",
   "id": "8902e81f-ba30-473f-a02b-1854bcecee3d",
   "metadata": {},
   "source": [
    "### Few Examples for Sparse Matrices\n",
    "\n",
    "Here we show how the matrix product performs differently, varying the sparse storage used for the matrices and varying the usage of the **.dot**() method or the **@** operator."
   ]
  },
  {
   "cell_type": "code",
   "execution_count": 27,
   "id": "30152559-3fc0-4e00-8623-9c7ba4551eee",
   "metadata": {},
   "outputs": [
    {
     "name": "stdout",
     "output_type": "stream",
     "text": [
      "*** MATRICES TOTAL ENTRIES: 25000000\n",
      "*** MATRIX A: sparse type = csr, non-zero entries = 25000\n",
      "*** MATRIX B: sparse type = csr, non-zero entries = 25000\n",
      "\n",
      "***************** AB PRODUCT *****************\n",
      "\n",
      "*** AV. COMP. TIME OF dot METHOD (csr): 0.0010101534128189088\n",
      "--- sparse type of AB: dok=False, lil=False, coo=False, csr=True, csc=False\n",
      "\n",
      "*** AV. COMP. TIME OF @ OPERATOR (csr): 0.0010219213962554931\n",
      "--- sparse type of AB: dok=False, lil=False, coo=False, csr=True, csc=False\n",
      "\n",
      "*** AV. COMP. TIME OF dot METHOD (coo): 0.0013192923069000244\n",
      "--- sparse type of AB: dok=False, lil=False, coo=False, csr=True, csc=False\n",
      "\n",
      "*** AV. COMP. TIME OF @ OPERATOR (coo): 0.0013184638023376464\n",
      "--- sparse type of AB: dok=False, lil=False, coo=False, csr=True, csc=False\n",
      "\n",
      "***************** Av PRODUCT *****************\n",
      "\n",
      "*** AV. COMP. TIME OF dot METHOD (csr): 0.000169419527053833\n",
      "--- sparse type of AB: dok=False, lil=False, coo=False, csr=True, csc=False\n",
      "\n",
      "*** AV. COMP. TIME OF @ OPERATOR (csr): 0.0001692126989364624\n",
      "--- sparse type of AB: dok=False, lil=False, coo=False, csr=True, csc=False\n",
      "\n",
      "*** AV. COMP. TIME OF dot METHOD (coo): 0.0003199653625488281\n",
      "--- sparse type of AB: dok=False, lil=False, coo=False, csr=True, csc=False\n",
      "\n",
      "*** AV. COMP. TIME OF @ OPERATOR (coo): 0.00031629669666290286\n",
      "--- sparse type of AB: dok=False, lil=False, coo=False, csr=True, csc=False\n"
     ]
    }
   ],
   "source": [
    "sz = 5000  # size of the matrices (i.e., sz-by-sz matrices)\n",
    "density = 0.001\n",
    "\n",
    "samples = 2000  # Number of times we perform the product to measure the average computation time\n",
    "\n",
    "A = spsp.random(sz, sz, density=density, format='csr')\n",
    "B = spsp.random(sz, sz, density=density, format='csr')\n",
    "\n",
    "Acoo = A.copy()\n",
    "Acoo = Acoo.tocoo()\n",
    "Bcoo = B.copy()\n",
    "Bcoo = Bcoo.tocoo()\n",
    "\n",
    "v = np.random.random(sz)\n",
    "vcol = v.reshape((sz, 1))\n",
    "vcol = spsp.csr_matrix(vcol)  # v converted to column vector in csr format\n",
    "\n",
    "print(f'*** MATRICES TOTAL ENTRIES: {sz * sz}')\n",
    "print(f'*** MATRIX A: sparse type = {A.getformat()}, non-zero entries = {len(spsp.find(Acoo)[0])}')\n",
    "print(f'*** MATRIX B: sparse type = {B.getformat()}, non-zero entries = {len(spsp.find(Bcoo)[0])}')\n",
    "\n",
    "\n",
    "# -------------- AB ---------------------\n",
    "print('')\n",
    "print('***************** AB PRODUCT *****************')\n",
    "\n",
    "T_AB = 0\n",
    "for i in range(samples):\n",
    "    t0 = time.time()\n",
    "    C = A.dot(B)\n",
    "    tf = time.time()\n",
    "    T_AB += (tf - t0)\n",
    "\n",
    "T_AB = T_AB / samples\n",
    "print('')\n",
    "print(f'*** AV. COMP. TIME OF dot METHOD (csr): {T_AB}')\n",
    "print(f'--- sparse type of AB: dok={spsp.isspmatrix_dok(C)}, lil={spsp.isspmatrix_lil(C)}, coo={spsp.isspmatrix_coo(C)}, csr={spsp.isspmatrix_csr(C)}, csc={spsp.isspmatrix_csc(C)}')\n",
    "\n",
    "T_ABat = 0\n",
    "for i in range(samples):\n",
    "    t0 = time.time()\n",
    "    Cat = A @ B\n",
    "    tf = time.time()\n",
    "    T_ABat += (tf - t0)\n",
    "\n",
    "T_ABat = T_ABat / samples\n",
    "print('')\n",
    "print(f'*** AV. COMP. TIME OF @ OPERATOR (csr): {T_ABat}')\n",
    "print(f'--- sparse type of AB: dok={spsp.isspmatrix_dok(Cat)}, lil={spsp.isspmatrix_lil(Cat)}, coo={spsp.isspmatrix_coo(Cat)}, csr={spsp.isspmatrix_csr(Cat)}, csc={spsp.isspmatrix_csc(Cat)}')\n",
    "\n",
    "\n",
    "\n",
    "T_ABcoo = 0\n",
    "for i in range(samples):\n",
    "    t0 = time.time()\n",
    "    Ccoo = Acoo.dot(Bcoo)\n",
    "    tf = time.time()\n",
    "    T_ABcoo += (tf - t0)\n",
    "\n",
    "T_ABcoo = T_ABcoo / samples\n",
    "print('')\n",
    "print(f'*** AV. COMP. TIME OF dot METHOD (coo): {T_ABcoo}')\n",
    "print(f'--- sparse type of AB: dok={spsp.isspmatrix_dok(Ccoo)}, lil={spsp.isspmatrix_lil(Ccoo)}, coo={spsp.isspmatrix_coo(Ccoo)}, csr={spsp.isspmatrix_csr(Ccoo)}, csc={spsp.isspmatrix_csc(Ccoo)}')\n",
    "\n",
    "\n",
    "T_ABcooat = 0\n",
    "for i in range(samples):\n",
    "    t0 = time.time()\n",
    "    Ccooat = Acoo @ Bcoo\n",
    "    tf = time.time()\n",
    "    T_ABcooat += (tf - t0)\n",
    "\n",
    "T_ABcooat = T_ABcooat / samples\n",
    "print('')\n",
    "print(f'*** AV. COMP. TIME OF @ OPERATOR (coo): {T_ABcooat}')\n",
    "print(f'--- sparse type of AB: dok={spsp.isspmatrix_dok(Ccooat)}, lil={spsp.isspmatrix_lil(Ccooat)}, coo={spsp.isspmatrix_coo(Ccooat)}, csr={spsp.isspmatrix_csr(Ccooat)}, csc={spsp.isspmatrix_csc(Ccooat)}')\n",
    "\n",
    "\n",
    "# -------------- Av ---------------------\n",
    "\n",
    "print('')\n",
    "print('***************** Av PRODUCT *****************')\n",
    "\n",
    "T_Av = 0\n",
    "for i in range(samples):\n",
    "    t0 = time.time()\n",
    "    Av = A.dot(vcol)\n",
    "    tf = time.time()\n",
    "    T_Av += (tf - t0)\n",
    "\n",
    "T_Av = T_Av / samples\n",
    "print('')\n",
    "print(f'*** AV. COMP. TIME OF dot METHOD (csr): {T_Av}')\n",
    "print(f'--- sparse type of AB: dok={spsp.isspmatrix_dok(Av)}, lil={spsp.isspmatrix_lil(Av)}, coo={spsp.isspmatrix_coo(Av)}, csr={spsp.isspmatrix_csr(Av)}, csc={spsp.isspmatrix_csc(Av)}')\n",
    "\n",
    "\n",
    "T_Avat = 0\n",
    "for i in range(samples):\n",
    "    t0 = time.time()\n",
    "    Avat = A @ vcol\n",
    "    tf = time.time()\n",
    "    T_Avat += (tf - t0)\n",
    "\n",
    "T_Avat = T_Avat / samples\n",
    "print('')\n",
    "print(f'*** AV. COMP. TIME OF @ OPERATOR (csr): {T_Avat}')\n",
    "print(f'--- sparse type of AB: dok={spsp.isspmatrix_dok(Avat)}, lil={spsp.isspmatrix_lil(Avat)}, coo={spsp.isspmatrix_coo(Avat)}, csr={spsp.isspmatrix_csr(Avat)}, csc={spsp.isspmatrix_csc(Avat)}')\n",
    "\n",
    "\n",
    "T_Avcoo = 0\n",
    "for i in range(samples):\n",
    "    t0 = time.time()\n",
    "    Avcoo = Acoo.dot(vcol)\n",
    "    tf = time.time()\n",
    "    T_Avcoo += (tf - t0)\n",
    "\n",
    "T_Avcoo = T_Avcoo / samples\n",
    "print('')\n",
    "print(f'*** AV. COMP. TIME OF dot METHOD (coo): {T_Avcoo}')\n",
    "print(f'--- sparse type of AB: dok={spsp.isspmatrix_dok(Avcoo)}, lil={spsp.isspmatrix_lil(Avcoo)}, coo={spsp.isspmatrix_coo(Avcoo)}, csr={spsp.isspmatrix_csr(Avcoo)}, csc={spsp.isspmatrix_csc(Avcoo)}')\n",
    "\n",
    "\n",
    "T_Avcooat = 0\n",
    "for i in range(samples):\n",
    "    t0 = time.time()\n",
    "    Avcooat = Acoo @ vcol\n",
    "    tf = time.time()\n",
    "    T_Avcooat += (tf - t0)\n",
    "\n",
    "T_Avcooat = T_Avcooat / samples\n",
    "print('')\n",
    "print(f'*** AV. COMP. TIME OF @ OPERATOR (coo): {T_Avcooat}')\n",
    "print(f'--- sparse type of AB: dok={spsp.isspmatrix_dok(Avcooat)}, lil={spsp.isspmatrix_lil(Avcooat)}, coo={spsp.isspmatrix_coo(Avcooat)}, csr={spsp.isspmatrix_csr(Avcooat)}, csc={spsp.isspmatrix_csc(Avcooat)}')\n",
    "\n"
   ]
  },
  {
   "cell_type": "markdown",
   "id": "ddd0cd27-3ff1-4783-86f9-9d7ef6eb8b89",
   "metadata": {},
   "source": [
    "## Sparse Linear Algebra Basic Built-in Functions & Procedures\n",
    "\n",
    "Here, we have a list of some of the main numpy **functions** and/or **procedures** for Linear Algebra (submodule *sp.sparsse.linalg.*):\n",
    "- sp.sparse.linalg.**norm**(x, ord=None, axis=None): returns the norm of order *ord* of the input array *x* (ATTENTION: authomatically select matrix/vector norms!)\n",
    "- sp.sparse.linalg.**cond**(x): returns the condition number of *x*.\n",
    "- sp.sparse.linalg.**det**(a): computes the determinant of a square matrix.\n",
    "- sp.sparse.linalg.**matrix_rank**(A): computes the rank of a matrix.\n",
    "- sp.sparse.linalg.**spsolve**(A, B): computes the solution $X\\in\\mathbb{R}^{n\\times k}$ of $AX=B$, $A\\in\\mathbb{R}^{n\\times n},\\,B\\in\\mathbb{R}^{n\\times k}$ ($k$ square lin. sys.s) using direct methods.\n",
    "- sp.sparse.linalg.**spsolve_triangular**(A, B): as above, but $A$ is triangular\n",
    "- sp.sparse.linalg.**..._iterative solvers_...**: see the official documentation.\n",
    "\n",
    "**N.B.:** for more details and extra inputs, see the official documentation or the help of these functions."
   ]
  }
 ],
 "metadata": {
  "kernelspec": {
   "display_name": "Python 3 (ipykernel)",
   "language": "python",
   "name": "python3"
  },
  "language_info": {
   "codemirror_mode": {
    "name": "ipython",
    "version": 3
   },
   "file_extension": ".py",
   "mimetype": "text/x-python",
   "name": "python",
   "nbconvert_exporter": "python",
   "pygments_lexer": "ipython3",
   "version": "3.11.4"
  }
 },
 "nbformat": 4,
 "nbformat_minor": 5
}
